{
 "cells": [
  {
   "cell_type": "code",
   "execution_count": 2,
   "metadata": {},
   "outputs": [],
   "source": [
    "import pandas as pd\n",
    "import numpy as np"
   ]
  },
  {
   "cell_type": "markdown",
   "metadata": {},
   "source": [
    "## World COVID data "
   ]
  },
  {
   "cell_type": "code",
   "execution_count": 71,
   "metadata": {},
   "outputs": [],
   "source": [
    "covid = pd.read_csv('Datasets/ECDC/COVID-19-geographic-disbtribution-worldwide.csv', usecols=['countryterritoryCode', 'geoId', 'month', 'cases', 'deaths', 'popData2019'])\n",
    "lat_long = pd.read_csv('Datasets/lat_long.csv', usecols=['country','country_code', 'latitude', 'longitude']).rename(columns={\"country_code\": \"geoId\"})\n",
    "covid_data = covid.groupby(['countryterritoryCode', 'geoId', 'month'], as_index=False).sum()\n",
    "#covid_data['case_per_thousand'] = covid_data['cases']/covid_data['popData2019']*1000\n",
    "covid_data = pd.merge(covid_data, lat_long, on='geoId', how='left')\n",
    "covid_data.sort_values(['countryterritoryCode','month'], inplace = True, ascending=[True, True])\n",
    "covid_data['rise'] = (covid_data.groupby('countryterritoryCode')['cases']\n",
    "                                  .apply(pd.Series.pct_change) + 1)\n",
    "covid_data.to_json(r'data/covid.json', orient = 'records')"
   ]
  },
  {
   "cell_type": "markdown",
   "metadata": {},
   "source": [
    "## US & Canada Weather Data "
   ]
  },
  {
   "cell_type": "code",
   "execution_count": 74,
   "metadata": {},
   "outputs": [],
   "source": [
    "us_weather = pd.read_csv(\"Datasets/ustemp.csv\",usecols=[\"Location\", \"Temp\", \"Month\"])\n",
    "us_weather['Location'].replace(to_replace ='Alabama.*', value = 'Alabama', regex = True, inplace=True)\n",
    "us_weather['Location'].replace(to_replace ='Arizona.*', value = 'Arizona', regex = True, inplace=True)\n",
    "us_weather['Location'].replace(to_replace ='Arkansas.*', value = 'Arkansas', regex = True, inplace=True)\n",
    "us_weather['Location'].replace(to_replace ='California.*', value = 'California', regex = True, inplace=True)\n",
    "us_weather['Location'].replace(to_replace ='Colorado.*', value = 'Colorado', regex = True, inplace=True)\n",
    "us_weather['Location'].replace(to_replace ='Connecticut.*', value = 'Connecticut', regex = True, inplace=True)\n",
    "us_weather['Location'].replace(to_replace ='Delaware.*', value = 'Delaware', regex = True, inplace=True)\n",
    "us_weather['Location'].replace(to_replace ='Florida.*', value = 'Florida', regex = True, inplace=True)\n",
    "us_weather['Location'].replace(to_replace ='Georgia.*', value = 'Georgia', regex = True, inplace=True)\n",
    "us_weather['Location'].replace(to_replace ='Idaho.*', value = 'Idaho', regex = True, inplace=True)\n",
    "us_weather['Location'].replace(to_replace ='Illinois.*', value = 'Illinois', regex = True, inplace=True)\n",
    "us_weather['Location'].replace(to_replace ='Indiana.*', value = 'Indiana', regex = True, inplace=True)\n",
    "us_weather['Location'].replace(to_replace ='Iowa.*', value = 'Iowa', regex = True, inplace=True)\n",
    "us_weather['Location'].replace(to_replace ='Kansas.*', value = 'Kansas', regex = True, inplace=True)\n",
    "us_weather['Location'].replace(to_replace ='Kentucky.*', value = 'Kentucky', regex = True, inplace=True)\n",
    "us_weather['Location'].replace(to_replace ='Louisiana.*', value = 'Louisiana', regex = True, inplace=True)\n",
    "us_weather['Location'].replace(to_replace ='Maine.*', value = 'Maine', regex = True, inplace=True)\n",
    "us_weather['Location'].replace(to_replace ='Maryland.*', value = 'Maryland', regex = True, inplace=True)\n",
    "us_weather['Location'].replace(to_replace ='Massachusetts.*', value = 'Massachusetts', regex = True, inplace=True)\n",
    "us_weather['Location'].replace(to_replace ='Michigan.*', value = 'Michigan', regex = True, inplace=True)\n",
    "us_weather['Location'].replace(to_replace ='Minnesota.*', value = 'Minnesota', regex = True, inplace=True)\n",
    "us_weather['Location'].replace(to_replace ='Mississippi.*', value = 'Mississippi', regex = True, inplace=True)\n",
    "us_weather['Location'].replace(to_replace ='Missouri.*', value = 'Missouri', regex = True, inplace=True)\n",
    "us_weather['Location'].replace(to_replace ='Montana.*', value = 'Montana', regex = True, inplace=True)\n",
    "us_weather['Location'].replace(to_replace ='Nebraska.*', value = 'Nebraska', regex = True, inplace=True)\n",
    "us_weather['Location'].replace(to_replace ='Nevada.*', value = 'Nevada', regex = True, inplace=True)\n",
    "us_weather['Location'].replace(to_replace ='New Hampshire.*', value = 'New Hampshire', regex = True, inplace=True)\n",
    "us_weather['Location'].replace(to_replace ='New Jersey.*', value = 'New Jersey', regex = True, inplace=True)\n",
    "us_weather['Location'].replace(to_replace ='New Mexico.*', value = 'New Mexico', regex = True, inplace=True)\n",
    "us_weather['Location'].replace(to_replace ='New York.*', value = 'New York', regex = True, inplace=True)\n",
    "us_weather['Location'].replace(to_replace ='North Carolina.*', value = 'North Carolina', regex = True, inplace=True)\n",
    "us_weather['Location'].replace(to_replace ='North Dakota.*', value = 'North Dakota', regex = True, inplace=True)\n",
    "us_weather['Location'].replace(to_replace ='Ohio.*', value = 'Ohio', regex = True, inplace=True)\n",
    "us_weather['Location'].replace(to_replace ='Oklahoma.*', value = 'Oklahoma', regex = True, inplace=True)\n",
    "us_weather['Location'].replace(to_replace ='Oregon.*', value = 'Oregon', regex = True, inplace=True)\n",
    "us_weather['Location'].replace(to_replace ='Pennsylvania.*', value = 'Pennsylvania', regex = True, inplace=True)\n",
    "us_weather['Location'].replace(to_replace ='Rhode Island.*', value = 'Rhode Island', regex = True, inplace=True)\n",
    "us_weather['Location'].replace(to_replace ='South Carolina.*', value = 'South Carolina', regex = True, inplace=True)\n",
    "us_weather['Location'].replace(to_replace ='South Dakota.*', value = 'South Dakota', regex = True, inplace=True)\n",
    "us_weather['Location'].replace(to_replace ='Tennessee.*', value = 'Tennessee', regex = True, inplace=True)\n",
    "us_weather['Location'].replace(to_replace ='Texas.*', value = 'Texas', regex = True, inplace=True)\n",
    "us_weather['Location'].replace(to_replace ='Utah.*', value = 'Utah', regex = True, inplace=True)\n",
    "us_weather['Location'].replace(to_replace ='Vermont.*', value = 'Vermont', regex = True, inplace=True)\n",
    "us_weather['Location'].replace(to_replace ='Virginia.*', value = 'Virginia', regex = True, inplace=True)\n",
    "us_weather['Location'].replace(to_replace ='Washington.*', value = 'Washington', regex = True, inplace=True)\n",
    "us_weather['Location'].replace(to_replace ='West Virginia.*', value = 'West Virginia', regex = True, inplace=True)\n",
    "us_weather['Location'].replace(to_replace ='Wisconsin.*', value = 'Wisconsin', regex = True, inplace=True)\n",
    "us_weather['Location'].replace(to_replace ='Wyoming.*', value = 'Wyoming', regex = True, inplace=True)\n",
    "us_weather_data = us_weather.groupby(['Location', 'Month'], as_index=False).mean()\n",
    "us_weather_data = us_weather_data.filter(['Location','Month','Temp'], axis=1)\n",
    "us_weather_data.rename(columns = {'Location':'state', 'Month':'month','Temp':'temperature'}, inplace = True)\n",
    "ca_weather = pd.read_csv(\"Datasets/catemp.csv\")\n",
    "ca_weather_data = ca_weather.groupby(['province', 'month'], as_index=False).mean().rename(columns={\"province\": \"state\"})\n",
    "state_weather_data = pd.concat([us_weather_data, ca_weather_data], axis=0)\n",
    "state_weather_data.to_json(r'data/state_weather.json', orient = 'records')"
   ]
  },
  {
   "cell_type": "markdown",
   "metadata": {},
   "source": [
    "## US COVID Data "
   ]
  },
  {
   "cell_type": "code",
   "execution_count": 72,
   "metadata": {},
   "outputs": [],
   "source": [
    "state_cases = pd.read_csv(\"Datasets/covid_us-states.csv\")\n",
    "state_cases.date = pd.to_datetime(state_cases.date)\n",
    "state_cases['day'] = state_cases['date'].dt.day\n",
    "state_cases['month'] = state_cases['date'].dt.month\n",
    "state_cases['year'] = state_cases['date'].dt.year\n",
    "state_cases = state_cases[state_cases.year != 2021].drop(['year','day'], 1)\n",
    "state_cases_data = state_cases.groupby(['state', 'month'], as_index=False).sum()\n",
    "us_pop = pd.read_csv(\"Datasets/us_population.csv\", usecols=['State', 'Population']).rename(columns={\"State\": \"state\"})\n",
    "state_cases_data = state_cases_data.merge(us_pop, on='state', how='left')\n",
    "lat_long_americas = pd.read_csv(\"Datasets/lat_long_americas.csv\")\n",
    "state_cases_data = state_cases_data.merge(lat_long_americas, on='state', how='left')\n",
    "#state_cases_data['case_per_thousand']=state_cases_data['cases']/state_cases_data['Population']*1000\n",
    "state_cases_data.sort_values(['state','month'], inplace = True, ascending=[True, True])\n",
    "state_cases_data['rise'] = (state_cases_data.groupby('state')['cases']\n",
    "                                  .apply(pd.Series.pct_change) + 1)\n",
    "state_cases_data.to_json(r'data/us_covid.json', orient = 'records')"
   ]
  },
  {
   "cell_type": "markdown",
   "metadata": {},
   "source": [
    "## Canada COVID Data "
   ]
  },
  {
   "cell_type": "code",
   "execution_count": 73,
   "metadata": {},
   "outputs": [],
   "source": [
    "prov_cases = pd.read_csv(\"Datasets/covidcases_ca-prov.csv\").rename(columns={\"date_report\": \"date\"})\n",
    "prov_deaths = pd.read_csv(\"Datasets/coviddeaths_ca-prov.csv\").rename(columns={\"date_death_report\": \"date\"})\n",
    "prov_cases = prov_cases.merge(prov_deaths, on=['province', 'date'], how='left')\n",
    "prov_cases['deaths'] = prov_cases['deaths'].fillna(0)\n",
    "prov_cases.date = pd.to_datetime(prov_cases.date)\n",
    "prov_cases['day'] = prov_cases['date'].dt.day\n",
    "prov_cases['month'] = prov_cases['date'].dt.month\n",
    "prov_cases['year'] = prov_cases['date'].dt.year\n",
    "prov_cases = prov_cases[prov_cases.year != 2021].drop(['year','day','cumulative_cases','cumulative_deaths'], 1)\n",
    "prov_cases_data = prov_cases.groupby(['province', 'month'], as_index=False).sum()\n",
    "canada_pop = pd.read_csv(\"Datasets/canada_population.csv\")\n",
    "prov_cases_data = prov_cases_data.merge(canada_pop, on='province', how='left')\n",
    "prov_cases_data = prov_cases_data.merge(lat_long_americas, left_on='province', right_on='state', how='left').rename(columns={\"population_x\": \"population\"})\n",
    "#prov_cases_data['case_per_thousand']=prov_cases_data['cases']/prov_cases_data['population']*1000\n",
    "prov_cases_data.sort_values(['province','month'], inplace = True, ascending=[True, True])\n",
    "prov_cases_data['rise'] = (prov_cases_data.groupby('province')['cases']\n",
    "                                  .apply(pd.Series.pct_change) + 1)\n",
    "prov_cases_data.to_json(r'data/canada_covid.json', orient = 'records')\n",
    "americas_cases_data = pd.concat([prov_cases_data.filter(['state','month','cases', 'rise'], axis=1), state_cases_data.filter(['state','month','cases', 'rise'], axis=1)], axis=0)\n",
    "americas_cases_data.to_json(r'data/states_covid.json', orient = 'records')"
   ]
  },
  {
   "cell_type": "markdown",
   "metadata": {},
   "source": [
    "## World Weather Data "
   ]
  },
  {
   "cell_type": "code",
   "execution_count": 3,
   "metadata": {},
   "outputs": [],
   "source": [
    "world_weather = pd.read_csv(\"Datasets/sample.csv\")\n",
    "world_weather = pd.melt(world_weather, id_vars=['Country'])\n",
    "world_weather.columns = ['country', 'date', 'temperature']\n",
    "world_weather.date = pd.to_datetime(world_weather.date)\n",
    "world_weather['month'] = world_weather['date'].dt.month\n",
    "world_weather.drop('date', 1, inplace=True)\n",
    "world_weather_data = world_weather.groupby(['country', 'month'], as_index=False).mean()\n",
    "country_codes = pd.read_csv(\"Datasets/country_codes.csv\", usecols=[\"name\", \"alpha-3\"]).rename(columns={\"name\": \"country\"})\n",
    "world_weather_data = pd.merge(world_weather_data,country_codes,on='country',how='left')\n",
    "world_weather_data.to_json(r'data/weather.json', orient = 'records')"
   ]
  }
 ],
 "metadata": {
  "kernelspec": {
   "display_name": "Python 3",
   "language": "python",
   "name": "python3"
  },
  "language_info": {
   "codemirror_mode": {
    "name": "ipython",
    "version": 3
   },
   "file_extension": ".py",
   "mimetype": "text/x-python",
   "name": "python",
   "nbconvert_exporter": "python",
   "pygments_lexer": "ipython3",
   "version": "3.8.3"
  }
 },
 "nbformat": 4,
 "nbformat_minor": 4
}
